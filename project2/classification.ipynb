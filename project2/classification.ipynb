{
 "cells": [
  {
   "cell_type": "code",
   "execution_count": null,
   "id": "ebae24ca",
   "metadata": {},
   "outputs": [],
   "source": [
    "import numpy as np\n",
    "import pandas as pd\n",
    "import tqdm\n",
    "import matplotlib.pyplot as plt\n",
    "from matplotlib import pyplot\n",
    "\n",
    "from sklearn.preprocessing import normalize, StandardScaler\n",
    "from sklearn.svm import SVC\n",
    "from sklearn.model_selection import train_test_split, GridSearchCV, RandomizedSearchCV\n",
    "from sklearn.model_selection import cross_val_score, cross_validate, RepeatedStratifiedKFold, StratifiedKFold\n",
    "from sklearn.ensemble import BaggingClassifier, GradientBoostingClassifier, RandomForestClassifier\n",
    "from sklearn.tree import DecisionTreeClassifier\n",
    "from sklearn.decomposition import PCA\n",
    "from sklearn.neighbors import LocalOutlierFactor\n",
    "from sklearn.metrics import f1_score\n",
    "\n",
    "from xgboost import XGBClassifier\n",
    "from catboost import CatBoostClassifier\n",
    "\n",
    "from imblearn.over_sampling import SMOTE\n",
    "from imblearn.ensemble import BalancedBaggingClassifier\n",
    "\n",
    "import hyperopt as hp"
   ]
  },
  {
   "cell_type": "code",
   "execution_count": null,
   "id": "042b100d",
   "metadata": {},
   "outputs": [],
   "source": [
    "X_train = pd.read_csv(\"features_ata.csv\").drop(columns='Unnamed: 0')\n",
    "labels = pd.read_csv(\"y_train.csv\").drop(columns='id')\n",
    "X_test =  pd.read_csv(\"test_features_ata.csv\").drop(columns='Unnamed: 0')\n",
    "Y_train = labels.to_numpy()\n",
    "Y_train = Y_train.reshape(-1)\n",
    "pred_3 = pd.read_csv(\"class_3_pred.csv\").drop(columns='id')\n",
    "pred_3 = pred_3.to_numpy().reshape(-1)"
   ]
  },
  {
   "cell_type": "code",
   "execution_count": null,
   "id": "1c094527",
   "metadata": {},
   "outputs": [],
   "source": [
    "def make_submission(prediction_, name='submission.csv'):\n",
    "    dt = pd.DataFrame(data=prediction_, columns=['y'])\n",
    "    dt['id'] = dt.index\n",
    "    dt = dt[['id', 'y']]\n",
    "    dt.to_csv(name, header=True, index=False)"
   ]
  },
  {
   "cell_type": "markdown",
   "id": "5fce4963",
   "metadata": {},
   "source": [
    "# Visualize data"
   ]
  },
  {
   "cell_type": "code",
   "execution_count": null,
   "id": "21684cb7",
   "metadata": {},
   "outputs": [],
   "source": [
    "X_train = pd.DataFrame(X_train)\n",
    "#histogram plot of features\n",
    "for i in range(64):\n",
    "    plt.figure()\n",
    "    plt.title(i)\n",
    "    X_train.iloc[:,i].hist(bins = 40)"
   ]
  },
  {
   "cell_type": "code",
   "execution_count": null,
   "id": "be911251",
   "metadata": {},
   "outputs": [],
   "source": [
    "class_3 = X_train[Y_train == 3]\n",
    "rest = X_train[Y_train != 3]\n",
    "\n",
    "for i in range(63):\n",
    "    plt.figure()\n",
    "    plt.title(i)\n",
    "    plt.scatter(rest.iloc[:,i], rest.iloc[:,i+1], label='rest')\n",
    "    plt.scatter(class_3.iloc[:,i], class_3.iloc[:,i+1], label='3')"
   ]
  },
  {
   "cell_type": "markdown",
   "id": "d4d4031f",
   "metadata": {},
   "source": [
    "# PRE-PROCESSING\n",
    "---"
   ]
  },
  {
   "cell_type": "markdown",
   "id": "9d3ccf35",
   "metadata": {},
   "source": [
    "## Outlier detection"
   ]
  },
  {
   "cell_type": "code",
   "execution_count": null,
   "id": "e51a48e2",
   "metadata": {},
   "outputs": [],
   "source": [
    "# outlier detection\n",
    "clf = LocalOutlierFactor(n_neighbors=10, contamination='auto')\n",
    "outlier_detection = np.array(clf.fit_predict(X_train))\n",
    "inliers = np.where(outlier_detection == 1)[0]\n",
    "\n",
    "X_train = X_train.iloc[inliers]\n",
    "Y_train = Y_train[inliers]"
   ]
  },
  {
   "cell_type": "markdown",
   "id": "307ec21a",
   "metadata": {},
   "source": [
    "## Normalization"
   ]
  },
  {
   "cell_type": "code",
   "execution_count": null,
   "id": "abe20d6c",
   "metadata": {},
   "outputs": [],
   "source": [
    "# normalization\n",
    "X_train = normalize(X_train, axis=0)\n",
    "X_test = normalize(X_test, axis=0)"
   ]
  },
  {
   "cell_type": "markdown",
   "id": "3fd7a696",
   "metadata": {},
   "source": [
    "## split data into 1 vs rest"
   ]
  },
  {
   "cell_type": "code",
   "execution_count": null,
   "id": "e8c64ebc",
   "metadata": {},
   "outputs": [],
   "source": [
    "# 1 vs rest split\n",
    "class_3 = np.copy(Y_train)\n",
    "rest = X_train[class_3!=3]\n",
    "rest_labels = Y_train[class_3!=3]\n",
    "class_3[np.where(class_3!=3)]=0\n",
    "class_3[np.where(class_3==3)]=1"
   ]
  },
  {
   "cell_type": "markdown",
   "id": "9fd52aa4",
   "metadata": {},
   "source": [
    "## feature selection"
   ]
  },
  {
   "cell_type": "code",
   "execution_count": null,
   "id": "a3f59fec",
   "metadata": {},
   "outputs": [],
   "source": [
    "model = XGBClassifier(n_estimators =100, eval_metric = 'mlogloss', n_jobs=-1, reg_alpha= 0.1)\n",
    "model.fit(rest, rest_labels)\n",
    "# feature importants\n",
    "#print(np.where(model.feature_importances_[model.feature_importances_> 0]))\n",
    "print([model.feature_importances_])\n",
    "# plot\n",
    "#plt.bar(range(len(model.feature_importances_)), model.feature_importances_)\n",
    "#plt.show()"
   ]
  },
  {
   "cell_type": "code",
   "execution_count": null,
   "id": "745e769b",
   "metadata": {},
   "outputs": [],
   "source": [
    "rest = rest[:, model.feature_importances_>0.001]\n",
    "X_test = X_test[:, model.feature_importances_>0.001]\n",
    "X_train = X_train[:, model.feature_importances_>0.001]"
   ]
  },
  {
   "cell_type": "markdown",
   "id": "943c7ee6",
   "metadata": {},
   "source": [
    "## train a model"
   ]
  },
  {
   "cell_type": "code",
   "execution_count": null,
   "id": "aa571a37",
   "metadata": {},
   "outputs": [],
   "source": [
    "classifier = XGBClassifier(n_estimators =100, eval_metric = 'mlogloss')\n",
    "scores = cross_validate(classifier, rest, rest_labels, scoring = 'f1_micro', cv = 5, return_estimator=True, verbose=1, n_jobs=-1)"
   ]
  },
  {
   "cell_type": "code",
   "execution_count": null,
   "id": "078635dd",
   "metadata": {},
   "outputs": [],
   "source": [
    "print(scores[\"test_score\"])\n",
    "print(np.mean(scores[\"test_score\"]))"
   ]
  },
  {
   "cell_type": "code",
   "execution_count": null,
   "id": "62a259ba",
   "metadata": {},
   "outputs": [],
   "source": [
    "# train-test split\n",
    "x_train, x_test, y_train, y_test = train_test_split(rest, rest_labels, test_size=0.2, random_state=42)\n",
    "\n",
    "model = XGBClassifier(n_estimators=100, eval_metric = 'mloglos')\n",
    "model.fit(x_train, y_train)\n",
    "pred = model.predict(x_test)\n",
    "#print(f1_score(y_test))"
   ]
  },
  {
   "cell_type": "markdown",
   "id": "f4d2fb21",
   "metadata": {},
   "source": [
    "# Explore different models\n",
    "---"
   ]
  },
  {
   "cell_type": "markdown",
   "id": "e23c5343",
   "metadata": {},
   "source": [
    "# Baseline model (rbf-kernelized SVM)"
   ]
  },
  {
   "cell_type": "code",
   "execution_count": null,
   "id": "25660db8",
   "metadata": {},
   "outputs": [],
   "source": [
    "# define the model\n",
    "model = SVC()\n",
    "model2 = RandomForestClassifier()\n",
    "# evaluate the model\n",
    "cv = RepeatedStratifiedKFold(n_splits=10, n_repeats=3, random_state=1)\n",
    "n_scores = cross_val_score(model, rest, rest_labels, scoring='f1_micro', cv=cv, n_jobs=-1, error_score='raise')\n",
    "# report performance\n",
    "print('Accuracy: %.3f (%.3f)' % (np.mean(n_scores), np.std(n_scores)))"
   ]
  },
  {
   "cell_type": "markdown",
   "id": "853fe191",
   "metadata": {},
   "source": [
    "# EXPLORE BAGGING ALGORITHMS\n",
    "---\n",
    "- source: https://machinelearningmastery.com/bagging-ensemble-with-python/"
   ]
  },
  {
   "cell_type": "markdown",
   "id": "a29a165f",
   "metadata": {},
   "source": [
    "## Simple bagged decision tree classifier"
   ]
  },
  {
   "cell_type": "code",
   "execution_count": null,
   "id": "a6a28974",
   "metadata": {},
   "outputs": [],
   "source": [
    "# bagging svm\n",
    "# define the model\n",
    "clf = DecisionTreeClassifier(random_state=1)\n",
    "model = XGBClassifier(n_estimators=100, max_features=0.5, )\n",
    "model2 = GradientBoostingClassifier()\n",
    "# evaluate the model\n",
    "cv = RepeatedStratifiedKFold(n_splits=10, n_repeats=3, random_state=1)\n",
    "n_scores = cross_val_score(model, rest, rest_labels, scoring='f1_micro', cv=cv, n_jobs=-1, error_score='raise')\n",
    "# report performance\n",
    "print('Accuracy: %.3f (%.3f)' % (np.mean(n_scores), np.std(n_scores)))"
   ]
  },
  {
   "cell_type": "markdown",
   "id": "7142501a",
   "metadata": {},
   "source": [
    "# Explore Hyperparameters"
   ]
  },
  {
   "cell_type": "markdown",
   "id": "0ef2ba73",
   "metadata": {},
   "source": [
    "## explore number of trees"
   ]
  },
  {
   "cell_type": "code",
   "execution_count": null,
   "id": "d1fbdc08",
   "metadata": {},
   "outputs": [],
   "source": [
    "# get a list of models to evaluate\n",
    "def get_models():\n",
    "    models = dict()\n",
    "    # define number of trees to consider\n",
    "    n_trees = [10, 20, 30, 40, 50, 100]\n",
    "    for n in n_trees:\n",
    "        models[str(n)] = XGBClassifier(n_estimators=n)\n",
    "    return models\n",
    "\n",
    "# evaluate a given model using cross-validation\n",
    "def evaluate_model(model, X, y):\n",
    "    # define the evaluation procedure\n",
    "    cv = RepeatedStratifiedKFold(n_splits=10, n_repeats=1, random_state=1)\n",
    "    # evaluate the model and collect the results\n",
    "    scores = cross_val_score(model, X, y, scoring='f1_micro', cv=cv, n_jobs=-1)\n",
    "    return scores\n",
    " \n",
    "# get the models to evaluate\n",
    "models = get_models()\n",
    "# evaluate the models and store results\n",
    "results, names = list(), list()\n",
    "for name, model in models.items():\n",
    "    # evaluate the model\n",
    "    scores = evaluate_model(model, rest, rest_labels)\n",
    "    # store the results\n",
    "    results.append(scores)\n",
    "    names.append(name)\n",
    "    # summarize the performance along the way\n",
    "    print('>%s %.3f (%.3f)' % (name, np.mean(scores), np.std(scores)))\n",
    "# plot model performance for comparison\n",
    "pyplot.boxplot(results, labels=names, showmeans=True)\n",
    "pyplot.show()"
   ]
  },
  {
   "cell_type": "markdown",
   "id": "f550d854",
   "metadata": {},
   "source": [
    "## explore number of samples in bootstrap"
   ]
  },
  {
   "cell_type": "code",
   "execution_count": null,
   "id": "1819066b",
   "metadata": {},
   "outputs": [],
   "source": [
    "# get a list of models to evaluate\n",
    "def get_models():\n",
    "    models = dict()\n",
    "    # explore ratios from 10% to 100% in 10% increments\n",
    "    for i in np.arange(0.1, 1.1, 0.1):\n",
    "        key = '%.1f' % i\n",
    "        models[key] = XGBClassifier(subsample=i, n_estimators = 100)\n",
    "    return models\n",
    " \n",
    "# evaluate a given model using cross-validation\n",
    "def evaluate_model(model, X, y):\n",
    "    # define the evaluation procedure\n",
    "    cv = RepeatedStratifiedKFold(n_splits=10, n_repeats=1, random_state=1)\n",
    "    # evaluate the model and collect the results\n",
    "    scores = cross_val_score(model, X, y, scoring='f1_micro', cv=cv, n_jobs=-1)\n",
    "    return scores\n",
    " \n",
    "# get the models to evaluate\n",
    "models = get_models()\n",
    "# evaluate the models and store results\n",
    "results, names = list(), list()\n",
    "for name, model in models.items():\n",
    "    # evaluate the model\n",
    "    scores = evaluate_model(model, X_train, Y_train)\n",
    "    # store the results\n",
    "    results.append(scores)\n",
    "    names.append(name)\n",
    "    # summarize the performance along the way\n",
    "    print('>%s %.3f (%.3f)' % (name, np.mean(scores), np.std(scores)))\n",
    "# plot model performance for comparison\n",
    "pyplot.boxplot(results, labels=names, showmeans=True)\n",
    "pyplot.show()"
   ]
  },
  {
   "cell_type": "markdown",
   "id": "fe97064a",
   "metadata": {},
   "source": [
    "## Train a model with the hyperparameter choosen with the knowledge from the above inspections"
   ]
  },
  {
   "cell_type": "code",
   "execution_count": null,
   "id": "a31c6a7c",
   "metadata": {},
   "outputs": [],
   "source": [
    "# bagging svm\n",
    "# define the model\n",
    "clf = DecisionTreeClassifier(random_state=1)\n",
    "model = BaggingClassifier(base_estimator=SVC(class_weight='balanced'), n_estimators=100, max_samples=0.4)\n",
    "model2 = GradientBoostingClassifier(n_estimators=100, subsample=1.0)\n",
    "# evaluate the model\n",
    "cv = RepeatedStratifiedKFold(n_splits=10, n_repeats=3, random_state=1)\n",
    "n_scores = cross_val_score(model, rest, rest_labels, scoring='f1_micro', cv=cv, n_jobs=-1, error_score='raise')\n",
    "# report performance\n",
    "print('F_micro score: %.3f (%.3f)' % (np.mean(n_scores), np.std(n_scores)))"
   ]
  },
  {
   "cell_type": "code",
   "execution_count": null,
   "id": "efcdc476",
   "metadata": {},
   "outputs": [],
   "source": [
    "model = BaggingClassifier(n_estimators=100, max_samples=0.4)\n",
    "model2 = GradientBoostingClassifier(n_estimators=100, subsample=0.4)\n",
    "model2.fit(rest,rest_labels)\n",
    "pred = model2.predict(X_test)\n",
    "pred[pred_3==1] = 3\n",
    "make_submission(pred)"
   ]
  },
  {
   "cell_type": "markdown",
   "id": "1e12d6ff",
   "metadata": {},
   "source": [
    "# Try to use XGB"
   ]
  },
  {
   "cell_type": "code",
   "execution_count": null,
   "id": "f17209a6",
   "metadata": {},
   "outputs": [],
   "source": [
    "# 1 vs rest split\n",
    "class_3 = np.copy(Y_train)\n",
    "rest = X_train[class_3!=3]\n",
    "rest_labels = Y_train[class_3!=3]\n",
    "class_3[np.where(class_3!=3)]=0\n",
    "class_3[np.where(class_3==3)]=1"
   ]
  },
  {
   "cell_type": "code",
   "execution_count": null,
   "id": "93ca7a66",
   "metadata": {},
   "outputs": [],
   "source": [
    "# define model\n",
    "model = XGBClassifier(n_estimators=10, eval_metric = 'mlogloss')\n",
    "# define evaluation procedure\n",
    "cv = RepeatedStratifiedKFold(n_splits=10, n_repeats=3, random_state=1)\n",
    "# evaluate model\n",
    "scores = cross_val_score(model, rest, rest_labels, scoring='f1_micro', cv=cv, n_jobs=-1)\n",
    "# summarize performance\n",
    "print('Mean F1: %.5f' % np.mean(scores))"
   ]
  },
  {
   "cell_type": "markdown",
   "id": "9f732617",
   "metadata": {},
   "source": [
    "## best tuned SVM"
   ]
  },
  {
   "cell_type": "code",
   "execution_count": null,
   "id": "1eca023e",
   "metadata": {},
   "outputs": [],
   "source": [
    "# define the model\n",
    "model = SVC(gamma=100, C=20)\n",
    "# evaluate the model\n",
    "cv = RepeatedStratifiedKFold(n_splits=10, n_repeats=3, random_state=1)\n",
    "n_scores = cross_val_score(model, rest, rest_labels, scoring='f1_micro', cv=cv, n_jobs=-1, error_score='raise')\n",
    "# report performance\n",
    "print('Accuracy: %.3f (%.3f)' % (np.mean(n_scores), np.std(n_scores)))"
   ]
  },
  {
   "cell_type": "markdown",
   "id": "218b5426",
   "metadata": {},
   "source": [
    "# majority vote from previous classifiers"
   ]
  },
  {
   "cell_type": "code",
   "execution_count": null,
   "id": "75f322c8",
   "metadata": {},
   "outputs": [],
   "source": [
    "ann_pred = pd.read_csv(\"ann_pred.csv\").drop(columns='id')\n",
    "ann_pred = ann_pred.to_numpy().reshape(-1)"
   ]
  },
  {
   "cell_type": "code",
   "execution_count": null,
   "id": "4d1b05b2",
   "metadata": {},
   "outputs": [],
   "source": [
    "xgb_pred = pd.read_csv(\"ann_pred.csv\").drop(columns='id')\n",
    "xgb_pred = xgb_pred.to_numpy().reshape(-1)"
   ]
  },
  {
   "cell_type": "code",
   "execution_count": null,
   "id": "9845a8cd",
   "metadata": {},
   "outputs": [],
   "source": [
    "s0 = pd.read_csv(\"submission-0.csv\").drop(columns='id')\n",
    "s1 = pd.read_csv(\"submission-1.csv\").drop(columns='id')\n",
    "s2 = pd.read_csv(\"submission-2.csv\").drop(columns='id')\n",
    "s3 = pd.read_csv(\"submission-3.csv\").drop(columns='id')\n",
    "s4 = pd.read_csv(\"submission-4.csv\").drop(columns='id')\n",
    "s5 = pd.read_csv(\"submission-5.csv\").drop(columns='id')\n",
    "s0 = s0.to_numpy().reshape(-1)\n",
    "s1 = s1.to_numpy().reshape(-1)\n",
    "s2 = s2.to_numpy().reshape(-1)\n",
    "s3 = s3.to_numpy().reshape(-1)\n",
    "s4 = s4.to_numpy().reshape(-1)\n",
    "s5 = s5.to_numpy().reshape(-1)\n",
    "\n",
    "ensemble = np.zeros((5, len(tuned_svc_pred)))\n",
    "\n",
    "ensemble[0,:] = tuned_svc_pred\n",
    "ensemble[1,:] = bagged_svm_pred\n",
    "ensemble[2,:] = ann_pred\n",
    "ensemble[3,:] = xgb_pred\n",
    "ensemble[4,:] = s0"
   ]
  },
  {
   "cell_type": "code",
   "execution_count": null,
   "id": "8635ee31",
   "metadata": {},
   "outputs": [],
   "source": [
    "final_pred = np.zeros(len(tuned_svc_pred))\n",
    "for i in tqdm.trange(len(tuned_svc_pred)):\n",
    "    b = Counter(ensemble[:,i])\n",
    "    final_pred[i] = b.most_common(1)[0][0]\n",
    "    \n",
    "make_submission(final_pred)"
   ]
  }
 ],
 "metadata": {
  "kernelspec": {
   "display_name": "Python 3.9 (tensorflow)",
   "language": "python",
   "name": "tensorflow"
  },
  "language_info": {
   "codemirror_mode": {
    "name": "ipython",
    "version": 3
   },
   "file_extension": ".py",
   "mimetype": "text/x-python",
   "name": "python",
   "nbconvert_exporter": "python",
   "pygments_lexer": "ipython3",
   "version": "3.9.15"
  }
 },
 "nbformat": 4,
 "nbformat_minor": 5
}
